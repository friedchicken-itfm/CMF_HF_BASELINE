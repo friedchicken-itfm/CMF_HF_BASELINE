{
 "cells": [
  {
   "cell_type": "code",
   "execution_count": 1,
   "id": "b6ce8467",
   "metadata": {},
   "outputs": [
    {
     "name": "stdout",
     "output_type": "stream",
     "text": [
      "Скачиваем данные для BTC/USDT с биржи binance...\n",
      "\n",
      "Данные успешно скачаны. Первые 5 строк:\n",
      "                         open      high       low     close       volume\n",
      "timestamp                                                               \n",
      "2022-09-23 18:00:00  18770.00  18834.42  18620.28  18635.02  21562.25099\n",
      "2022-09-23 19:00:00  18636.12  18829.71  18620.31  18807.57  20617.96022\n",
      "2022-09-23 20:00:00  18807.57  18956.85  18807.57  18852.17  14795.74700\n",
      "2022-09-23 21:00:00  18853.46  19044.02  18803.00  19010.43   7749.80073\n",
      "2022-09-23 22:00:00  19010.43  19341.09  18995.08  19333.18  17836.41446\n",
      "\n",
      "Последние 5 строк:\n",
      "                          open       high        low      close      volume\n",
      "timestamp                                                                  \n",
      "2025-09-22 13:00:00  112738.64  113148.29  112380.00  113130.63   813.72754\n",
      "2025-09-22 14:00:00  113130.63  113432.76  112754.15  112933.16  1386.14648\n",
      "2025-09-22 15:00:00  112933.16  113024.23  112576.42  112815.50   609.57711\n",
      "2025-09-22 16:00:00  112815.50  112888.00  112585.87  112600.68   359.00005\n",
      "2025-09-22 17:00:00  112600.69  112622.95  112250.89  112305.14   231.49142\n",
      "\n",
      "Размер DataFrame: (26279, 5)\n"
     ]
    },
    {
     "data": {
      "text/plain": [
       "((26279, 5),\n",
       " <bound method NDFrame.tail of                           open       high        low      close       volume\n",
       " timestamp                                                                   \n",
       " 2022-09-23 18:00:00   18770.00   18834.42   18620.28   18635.02  21562.25099\n",
       " 2022-09-23 19:00:00   18636.12   18829.71   18620.31   18807.57  20617.96022\n",
       " 2022-09-23 20:00:00   18807.57   18956.85   18807.57   18852.17  14795.74700\n",
       " 2022-09-23 21:00:00   18853.46   19044.02   18803.00   19010.43   7749.80073\n",
       " 2022-09-23 22:00:00   19010.43   19341.09   18995.08   19333.18  17836.41446\n",
       " ...                        ...        ...        ...        ...          ...\n",
       " 2025-09-22 13:00:00  112738.64  113148.29  112380.00  113130.63    813.72754\n",
       " 2025-09-22 14:00:00  113130.63  113432.76  112754.15  112933.16   1386.14648\n",
       " 2025-09-22 15:00:00  112933.16  113024.23  112576.42  112815.50    609.57711\n",
       " 2025-09-22 16:00:00  112815.50  112888.00  112585.87  112600.68    359.00005\n",
       " 2025-09-22 17:00:00  112600.69  112622.95  112250.89  112305.14    231.49142\n",
       " \n",
       " [26279 rows x 5 columns]>)"
      ]
     },
     "execution_count": 1,
     "metadata": {},
     "output_type": "execute_result"
    }
   ],
   "source": [
    "import ccxt\n",
    "import pandas as pd\n",
    "import datetime\n",
    "import time\n",
    "\n",
    "def fetch_ohlcv_data(symbol, timeframe, since, exchange_id='binance'):\n",
    "    \"\"\"\n",
    "    Скачивает исторические данные (OHLCV) с заданной биржи.\n",
    "\n",
    "    Args:\n",
    "        symbol (str): Торговая пара (например, 'BTC/USDT').\n",
    "        timeframe (str): Временной интервал (например, '1h').\n",
    "        since (int): Начальное время в миллисекундах.\n",
    "        exchange_id (str): ID биржи ('binance' по умолчанию).\n",
    "\n",
    "    Returns:\n",
    "        pd.DataFrame: DataFrame с данными OHLCV.\n",
    "    \"\"\"\n",
    "    try:\n",
    "        # Инициализация биржи\n",
    "        exchange = getattr(ccxt, exchange_id)()\n",
    "        \n",
    "        # Проверка, поддерживает ли биржа запрашиваемый таймфрейм\n",
    "        if timeframe not in exchange.timeframes:\n",
    "            print(f\"Биржа {exchange_id} не поддерживает таймфрейм '{timeframe}'.\")\n",
    "            return None\n",
    "            \n",
    "        print(f\"Скачиваем данные для {symbol} с биржи {exchange_id}...\")\n",
    "        \n",
    "        all_ohlcv = []\n",
    "        \n",
    "        # Загрузка данных частями, так как биржи ограничивают количество свечей за один запрос\n",
    "        while True:\n",
    "            ohlcv = exchange.fetch_ohlcv(symbol, timeframe, since=since, limit=1000)\n",
    "            if not ohlcv:\n",
    "                break\n",
    "            \n",
    "            all_ohlcv.extend(ohlcv)\n",
    "            # Обновляем 'since' для следующего запроса, чтобы не скачивать дубликаты\n",
    "            since = all_ohlcv[-1][0] + exchange.parse_timeframe(timeframe) * 1000\n",
    "            \n",
    "            # Небольшая задержка, чтобы не превысить лимиты запросов\n",
    "            time.sleep(exchange.rateLimit / 1000)\n",
    "            \n",
    "            # Проверяем, достигнута ли текущая дата\n",
    "            if datetime.datetime.fromtimestamp(since / 1000) > datetime.datetime.now():\n",
    "                break\n",
    "\n",
    "    except (ccxt.NetworkError, ccxt.ExchangeError) as e:\n",
    "        print(f\"Ошибка при подключении к бирже: {e}\")\n",
    "        return None\n",
    "    \n",
    "    # Преобразование данных в DataFrame\n",
    "    df = pd.DataFrame(all_ohlcv, columns=['timestamp', 'open', 'high', 'low', 'close', 'volume'])\n",
    "    df['timestamp'] = pd.to_datetime(df['timestamp'], unit='ms')\n",
    "    df.set_index('timestamp', inplace=True)\n",
    "    \n",
    "    return df\n",
    "\n",
    "if __name__ == \"__main__\":\n",
    "    # Параметры запроса\n",
    "    symbol = 'BTC/USDT'\n",
    "    timeframe = '1h'\n",
    "    # Рассчитываем дату начала - 1 год назад\n",
    "    one_year_ago = datetime.datetime.now() - datetime.timedelta(days=365*3)\n",
    "    since_ms = int(one_year_ago.timestamp() * 1000)\n",
    "\n",
    "    # Скачивание данных\n",
    "    df_btc_usdt = fetch_ohlcv_data(symbol, timeframe, since_ms)\n",
    "\n",
    "    if df_btc_usdt is not None:\n",
    "        print(\"\\nДанные успешно скачаны. Первые 5 строк:\")\n",
    "        print(df_btc_usdt.head())\n",
    "        print(\"\\nПоследние 5 строк:\")\n",
    "        print(df_btc_usdt.tail())\n",
    "        print(f\"\\nРазмер DataFrame: {df_btc_usdt.shape}\")\n",
    "        \n",
    "        # Сохранение данных в CSV-файл (опционально)\n",
    "        # df_btc_usdt.to_csv('btc_usdt_1h.csv')\n",
    "        # print(\"Данные сохранены в файл 'btc_usdt_1h.csv'\")\n",
    "(df_btc_usdt.shape,df_btc_usdt.tail)"
   ]
  },
  {
   "cell_type": "code",
   "execution_count": 3,
   "id": "94ad1cef",
   "metadata": {},
   "outputs": [
    {
     "data": {
      "text/plain": [
       "(8760, 5)"
      ]
     },
     "execution_count": 3,
     "metadata": {},
     "output_type": "execute_result"
    }
   ],
   "source": [
    "df_btc_usdt.shape"
   ]
  },
  {
   "cell_type": "code",
   "execution_count": null,
   "id": "60062461",
   "metadata": {},
   "outputs": [],
   "source": []
  }
 ],
 "metadata": {
  "kernelspec": {
   "display_name": ".venv",
   "language": "python",
   "name": "python3"
  },
  "language_info": {
   "codemirror_mode": {
    "name": "ipython",
    "version": 3
   },
   "file_extension": ".py",
   "mimetype": "text/x-python",
   "name": "python",
   "nbconvert_exporter": "python",
   "pygments_lexer": "ipython3",
   "version": "3.12.3"
  }
 },
 "nbformat": 4,
 "nbformat_minor": 5
}
